{
 "cells": [
  {
   "cell_type": "markdown",
   "id": "44398aea-5a59-41d7-bdbc-35812ea9a050",
   "metadata": {},
   "source": [
    "# Comparison between Exact EM Inversion 1D with empymod and LIN approximation"
   ]
  },
  {
   "cell_type": "code",
   "execution_count": 219,
   "id": "b6c99274-ad52-43af-90d4-64554bdf053e",
   "metadata": {},
   "outputs": [],
   "source": [
    "import empymod\n",
    "import numpy as np\n",
    "import matplotlib.pyplot as plt"
   ]
  },
  {
   "cell_type": "markdown",
   "id": "c8cb27fb-c430-4792-9898-b6a9550cbcdf",
   "metadata": {},
   "source": [
    "### Exercise for three layers. \n",
    "Calculate 5 parameters:\n",
    "- 3 resistivities\n",
    "- 2 thicknesses"
   ]
  },
  {
   "cell_type": "markdown",
   "id": "6b99b22c-b5b9-4382-af07-8311bb6ec06b",
   "metadata": {},
   "source": [
    "Define coil configurations"
   ]
  },
  {
   "cell_type": "code",
   "execution_count": 220,
   "id": "df601d8c-5d34-4e44-a097-a586fff7c3dd",
   "metadata": {},
   "outputs": [],
   "source": [
    "# Receivers geometry\n",
    "\n",
    "offsets = np.array([2, 4, 8]) # in meters\n",
    "dip = np.array([0, 90])\n",
    "\n",
    "#Hreceivers = [offsets, offsets*0, 0, 0, 0]\n",
    "#Vreceivers = [offsets, offsets*0, 0, 0, 90]\n",
    "\n",
    "receiver = [offsets, offsets*0, 0, 0, 90]\n",
    "\n",
    "# Source geometry\n",
    "\n",
    "#Hsource = [0, 0, 0 ,0 , 0]\n",
    "#Vsource = [0, 0, 0, 0, 90]\n",
    "\n",
    "source = [0, 0, 0, 0, 90]\n",
    "depth = [0, 3, 6]\n",
    "res = [2e14, 10, 10, 10]\n",
    "\n",
    "# Frequency\n",
    "\n",
    "freq = 9000"
   ]
  },
  {
   "cell_type": "code",
   "execution_count": 417,
   "id": "76f686bf-1aa2-472c-81ff-14dac1114618",
   "metadata": {},
   "outputs": [],
   "source": [
    "# Define parameters:\n",
    "freq = 9000 #Hz\n",
    "mu_0 = 4 * np.pi * 1e-7 # check this value\n",
    "s = 8 # coil separation\n",
    "source = [0, 0, 0, 0, 90]\n",
    "receiver = [s, s*0, 0, 0, 90]\n",
    "depth = [0]\n"
   ]
  },
  {
   "cell_type": "code",
   "execution_count": 418,
   "id": "95c2913b-1d93-49cf-94c7-706465aed425",
   "metadata": {},
   "outputs": [
    {
     "name": "stdout",
     "output_type": "stream",
     "text": [
      "skin factor is:  13.697876534699995\n",
      "Nb is:  0.010950602425128752\n"
     ]
    }
   ],
   "source": [
    "# Define skin factor\n",
    "sigma = 150/1000\n",
    "delta = np.sqrt(2/(2 * np.pi * freq * mu_0 * sigma))\n",
    "print('skin factor is: ', delta)\n",
    "\n",
    "# Define dimensionless induction number Nb\n",
    "\n",
    "Nb = sigma / delta\n",
    "print('Nb is: ', Nb)"
   ]
  },
  {
   "cell_type": "markdown",
   "id": "258d02a8-bc62-48c3-b5f6-a70a1b556994",
   "metadata": {},
   "source": [
    "## Define forward functions"
   ]
  },
  {
   "cell_type": "code",
   "execution_count": 432,
   "id": "a582dff4-f562-4a9d-a149-eeae74ec53ea",
   "metadata": {},
   "outputs": [],
   "source": [
    "def Q_Full(src, rec, depth, res, freq):\n",
    "    res = [2e14] + res\n",
    "    Hs = empymod.loop(src, rec, depth, res, freq, xdirect=None, mrec = 'loop', verb=0)\n",
    "    H = empymod.loop(src, rec, depth, res, freq, mrec = 'loop', verb=0)\n",
    "    Hp = H - Hs\n",
    "    Q = np.imag(Hs/Hp)\n",
    "    P = np.real(Hs/Hp)\n",
    "    \n",
    "    return Q, P"
   ]
  },
  {
   "cell_type": "markdown",
   "id": "ff0512d2-044a-41fe-b52a-2ee75963f0a5",
   "metadata": {},
   "source": [
    "Low Induction Number approximation\n",
    "\n",
    "$(\\frac{Hs}{Hp}) = \\frac{\\omega \\mu_0 s^2 \\sigma}{4}$"
   ]
  },
  {
   "cell_type": "markdown",
   "id": "f0bd2515-1e8d-41c8-b0df-e4a1ddbf8cd3",
   "metadata": {},
   "source": [
    "LIN Approximation\n",
    "\n",
    "$\\sigma_a = 4 * Q /(\\omega * \\mu_0 * s^2)$\n",
    "\n",
    "- $\\sigma_a$   -> Apparent Conductivity\n",
    "- $\\sigma$ -> True conductivity\n",
    "- $Q$     -> Quadrature\n",
    "- $\\omega$ -> angular frequency\n",
    "- $\\mu_0$ -> magnetic permeability\n",
    "- $s$     -> coil sepparation"
   ]
  },
  {
   "cell_type": "code",
   "execution_count": 426,
   "id": "fcadf469-d2c1-4734-a95b-c0451c924cb9",
   "metadata": {},
   "outputs": [],
   "source": [
    "def ECa_LIN(Q, freq, mu_0, s):\n",
    "    ECa = 4 * Q / ((2 * np.pi * freq) * mu_0 * s**2)\n",
    "    return ECa\n",
    "\n",
    "def Q_LIN(ECa, freq, mu_0, s):\n",
    "    Q = ECa * (2 * np.pi * freq) * mu_0 * s**2 / 4\n",
    "    return Q"
   ]
  },
  {
   "cell_type": "code",
   "execution_count": 427,
   "id": "f5ceea20-c61a-4f04-925a-97e4acd809b9",
   "metadata": {},
   "outputs": [],
   "source": [
    "sigma_arr = np.linspace(1/1000, 150/1000) \n",
    "res_arr = 1/sigma_arr\n",
    "Q_arr = []\n",
    "P_arr = []\n",
    "#plt.figure()\n",
    "for res in res_arr:\n",
    "    Q, P = Q_Full(source, receiver, depth, res, freq)\n",
    "    #plt.plot(sigma, Q_Full_t, 'ob')\n",
    "    Q_arr.append(Q)\n",
    "    P_arr.append(P)"
   ]
  },
  {
   "cell_type": "code",
   "execution_count": 428,
   "id": "16e4be88-dbdf-4548-a850-fb0b2f91484d",
   "metadata": {},
   "outputs": [
    {
     "data": {
      "text/plain": [
       "Text(0.5, 0, 'In Phase')"
      ]
     },
     "execution_count": 428,
     "metadata": {},
     "output_type": "execute_result"
    },
    {
     "data": {
      "image/png": "[encoded data removed]",
      "text/plain": [
       "<Figure size 640x480 with 1 Axes>"
      ]
     },
     "metadata": {},
     "output_type": "display_data"
    }
   ],
   "source": [
    "plt.plot(P_arr, Q_arr, '.')\n",
    "plt.ylabel('Quadrature')\n",
    "plt.xlabel('In Phase')"
   ]
  },
  {
   "cell_type": "code",
   "execution_count": 429,
   "id": "de8be779-93c8-4474-80d6-d43ddce354c5",
   "metadata": {},
   "outputs": [],
   "source": [
    "sigma_est = []\n",
    "#plt.figure()\n",
    "for Q in Q_arr:\n",
    "    sigma_est.append(ECa_LIN(Q, freq, mu_0, s))\n",
    "    #plt.plot(sigma, sigma_est)\n",
    "    "
   ]
  },
  {
   "cell_type": "code",
   "execution_count": 430,
   "id": "ebea9088-8277-4631-ae03-b5aafa749962",
   "metadata": {},
   "outputs": [
    {
     "data": {
      "text/plain": [
       "Text(0.5, 1.0, 'VCP Coil separation: 8m')"
      ]
     },
     "execution_count": 430,
     "metadata": {},
     "output_type": "execute_result"
    },
    {
     "data": {
      "image/png": "[encoded data removed]",
      "text/plain": [
       "<Figure size 640x480 with 1 Axes>"
      ]
     },
     "metadata": {},
     "output_type": "display_data"
    }
   ],
   "source": [
    "plt.plot(sigma_arr*1000, np.array(sigma_est)*1000, '.')\n",
    "plt.plot(sigma_arr*1000, sigma_arr*1000, '.k')\n",
    "plt.xlabel('True Conductivity $\\sigma$ [mS/m]')\n",
    "plt.ylabel('Apparent Conductivity $\\sigma_a$ [mS/m]')\n",
    "plt.title('VCP Coil separation: ' + str(s) + 'm')"
   ]
  },
  {
   "cell_type": "code",
   "execution_count": 434,
   "id": "87182755-d3a8-4e83-8481-1cbd58cd0d07",
   "metadata": {},
   "outputs": [],
   "source": [
    "# Inversion LIN Approach\n",
    "\n",
    "# Create 3 layered model\n",
    "\n",
    "# Define parameters:\n",
    "freq = 9000 #Hz\n",
    "mu_0 = 4 * np.pi * 1e-7 # check this value\n",
    "s = 8 # coil separation\n",
    "source = [0, 0, 0, 0, 90]\n",
    "receiver = [s, s*0, 0, 0, 90]\n",
    "depth = [0, 3, 7]\n",
    "sigma = [10/1000, 20/1000, 50/1000] # siemens\n",
    "res = [1/sigma[0], 1/sigma[1], 1/sigma[2]]"
   ]
  },
  {
   "cell_type": "code",
   "execution_count": 435,
   "id": "5e335cb0-1838-4629-abc8-adfe61e7a7db",
   "metadata": {},
   "outputs": [],
   "source": [
    "# Forward model receiver quadrature read\n",
    "Q, P = Q_Full(source, receiver, depth, res, freq)"
   ]
  },
  {
   "cell_type": "code",
   "execution_count": 437,
   "id": "f4e28db9-4612-4c03-b614-c29c7f1c1056",
   "metadata": {},
   "outputs": [],
   "source": [
    "ECa = ECa_LIN(Q, freq, mu_0, s)"
   ]
  },
  {
   "cell_type": "code",
   "execution_count": 439,
   "id": "afe4f98b-1502-448d-bbf7-609174e89b7b",
   "metadata": {},
   "outputs": [],
   "source": []
  },
  {
   "cell_type": "code",
   "execution_count": null,
   "id": "368a7ded-d90c-47e3-9997-35553daf1adf",
   "metadata": {},
   "outputs": [],
   "source": []
  }
 ],
 "metadata": {
  "kernelspec": {
   "display_name": "Python 3 (ipykernel)",
   "language": "python",
   "name": "python3"
  },
  "language_info": {
   "codemirror_mode": {
    "name": "ipython",
    "version": 3
   },
   "file_extension": ".py",
   "mimetype": "text/x-python",
   "name": "python",
   "nbconvert_exporter": "python",
   "pygments_lexer": "ipython3",
   "version": "3.8.10"
  }
 },
 "nbformat": 4,
 "nbformat_minor": 5
}
